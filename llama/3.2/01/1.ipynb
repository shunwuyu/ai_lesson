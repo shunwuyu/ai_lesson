{
 "cells": [
  {
   "cell_type": "code",
   "execution_count": 5,
   "metadata": {},
   "outputs": [],
   "source": [
    "!pip3 install modelscope --q"
   ]
  },
  {
   "cell_type": "code",
   "execution_count": 4,
   "metadata": {},
   "outputs": [],
   "source": [
    "!pyenv global 3.10.14"
   ]
  },
  {
   "cell_type": "code",
   "execution_count": 6,
   "metadata": {},
   "outputs": [
    {
     "name": "stdout",
     "output_type": "stream",
     "text": [
      "Requirement already satisfied: transformers in /Users/shunwuyu/.pyenv/versions/3.10.14/lib/python3.10/site-packages (4.46.0)\n",
      "Requirement already satisfied: huggingface-hub<1.0,>=0.23.2 in /Users/shunwuyu/.pyenv/versions/3.10.14/lib/python3.10/site-packages (from transformers) (0.26.1)\n",
      "Requirement already satisfied: numpy>=1.17 in /Users/shunwuyu/.pyenv/versions/3.10.14/lib/python3.10/site-packages (from transformers) (2.1.2)\n",
      "Requirement already satisfied: packaging>=20.0 in /Users/shunwuyu/.pyenv/versions/3.10.14/lib/python3.10/site-packages (from transformers) (24.1)\n",
      "Requirement already satisfied: safetensors>=0.4.1 in /Users/shunwuyu/.pyenv/versions/3.10.14/lib/python3.10/site-packages (from transformers) (0.4.5)\n",
      "Requirement already satisfied: tqdm>=4.27 in /Users/shunwuyu/.pyenv/versions/3.10.14/lib/python3.10/site-packages (from transformers) (4.66.5)\n",
      "Requirement already satisfied: filelock in /Users/shunwuyu/.pyenv/versions/3.10.14/lib/python3.10/site-packages (from transformers) (3.16.1)\n",
      "Requirement already satisfied: requests in /Users/shunwuyu/.pyenv/versions/3.10.14/lib/python3.10/site-packages (from transformers) (2.32.3)\n",
      "Requirement already satisfied: regex!=2019.12.17 in /Users/shunwuyu/.pyenv/versions/3.10.14/lib/python3.10/site-packages (from transformers) (2024.9.11)\n",
      "Requirement already satisfied: pyyaml>=5.1 in /Users/shunwuyu/.pyenv/versions/3.10.14/lib/python3.10/site-packages (from transformers) (6.0.2)\n",
      "Requirement already satisfied: tokenizers<0.21,>=0.20 in /Users/shunwuyu/.pyenv/versions/3.10.14/lib/python3.10/site-packages (from transformers) (0.20.1)\n",
      "Requirement already satisfied: fsspec>=2023.5.0 in /Users/shunwuyu/.pyenv/versions/3.10.14/lib/python3.10/site-packages (from huggingface-hub<1.0,>=0.23.2->transformers) (2024.10.0)\n",
      "Requirement already satisfied: typing-extensions>=3.7.4.3 in /Users/shunwuyu/.pyenv/versions/3.10.14/lib/python3.10/site-packages (from huggingface-hub<1.0,>=0.23.2->transformers) (4.12.2)\n",
      "Requirement already satisfied: certifi>=2017.4.17 in /Users/shunwuyu/.pyenv/versions/3.10.14/lib/python3.10/site-packages (from requests->transformers) (2024.8.30)\n",
      "Requirement already satisfied: idna<4,>=2.5 in /Users/shunwuyu/.pyenv/versions/3.10.14/lib/python3.10/site-packages (from requests->transformers) (3.10)\n",
      "Requirement already satisfied: urllib3<3,>=1.21.1 in /Users/shunwuyu/.pyenv/versions/3.10.14/lib/python3.10/site-packages (from requests->transformers) (2.2.3)\n",
      "Requirement already satisfied: charset-normalizer<4,>=2 in /Users/shunwuyu/.pyenv/versions/3.10.14/lib/python3.10/site-packages (from requests->transformers) (3.4.0)\n",
      "\n",
      "\u001b[1m[\u001b[0m\u001b[34;49mnotice\u001b[0m\u001b[1;39;49m]\u001b[0m\u001b[39;49m A new release of pip is available: \u001b[0m\u001b[31;49m23.0.1\u001b[0m\u001b[39;49m -> \u001b[0m\u001b[32;49m24.2\u001b[0m\n",
      "\u001b[1m[\u001b[0m\u001b[34;49mnotice\u001b[0m\u001b[1;39;49m]\u001b[0m\u001b[39;49m To update, run: \u001b[0m\u001b[32;49mpip install --upgrade pip\u001b[0m\n"
     ]
    }
   ],
   "source": [
    "!pip install transformers"
   ]
  },
  {
   "cell_type": "code",
   "execution_count": 11,
   "metadata": {},
   "outputs": [
    {
     "name": "stdout",
     "output_type": "stream",
     "text": [
      "Requirement already satisfied: transformers in /Users/shunwuyu/.pyenv/versions/3.10.14/lib/python3.10/site-packages (4.46.0)\n",
      "Requirement already satisfied: filelock in /Users/shunwuyu/.pyenv/versions/3.10.14/lib/python3.10/site-packages (from transformers) (3.16.1)\n",
      "Requirement already satisfied: huggingface-hub<1.0,>=0.23.2 in /Users/shunwuyu/.pyenv/versions/3.10.14/lib/python3.10/site-packages (from transformers) (0.26.1)\n",
      "Requirement already satisfied: numpy>=1.17 in /Users/shunwuyu/.pyenv/versions/3.10.14/lib/python3.10/site-packages (from transformers) (2.1.2)\n",
      "Requirement already satisfied: packaging>=20.0 in /Users/shunwuyu/.pyenv/versions/3.10.14/lib/python3.10/site-packages (from transformers) (24.1)\n",
      "Requirement already satisfied: pyyaml>=5.1 in /Users/shunwuyu/.pyenv/versions/3.10.14/lib/python3.10/site-packages (from transformers) (6.0.2)\n",
      "Requirement already satisfied: regex!=2019.12.17 in /Users/shunwuyu/.pyenv/versions/3.10.14/lib/python3.10/site-packages (from transformers) (2024.9.11)\n",
      "Requirement already satisfied: requests in /Users/shunwuyu/.pyenv/versions/3.10.14/lib/python3.10/site-packages (from transformers) (2.32.3)\n",
      "Requirement already satisfied: safetensors>=0.4.1 in /Users/shunwuyu/.pyenv/versions/3.10.14/lib/python3.10/site-packages (from transformers) (0.4.5)\n",
      "Requirement already satisfied: tokenizers<0.21,>=0.20 in /Users/shunwuyu/.pyenv/versions/3.10.14/lib/python3.10/site-packages (from transformers) (0.20.1)\n",
      "Requirement already satisfied: tqdm>=4.27 in /Users/shunwuyu/.pyenv/versions/3.10.14/lib/python3.10/site-packages (from transformers) (4.66.5)\n",
      "Requirement already satisfied: fsspec>=2023.5.0 in /Users/shunwuyu/.pyenv/versions/3.10.14/lib/python3.10/site-packages (from huggingface-hub<1.0,>=0.23.2->transformers) (2024.10.0)\n",
      "Requirement already satisfied: typing-extensions>=3.7.4.3 in /Users/shunwuyu/.pyenv/versions/3.10.14/lib/python3.10/site-packages (from huggingface-hub<1.0,>=0.23.2->transformers) (4.12.2)\n",
      "Requirement already satisfied: charset-normalizer<4,>=2 in /Users/shunwuyu/.pyenv/versions/3.10.14/lib/python3.10/site-packages (from requests->transformers) (3.4.0)\n",
      "Requirement already satisfied: idna<4,>=2.5 in /Users/shunwuyu/.pyenv/versions/3.10.14/lib/python3.10/site-packages (from requests->transformers) (3.10)\n",
      "Requirement already satisfied: urllib3<3,>=1.21.1 in /Users/shunwuyu/.pyenv/versions/3.10.14/lib/python3.10/site-packages (from requests->transformers) (2.2.3)\n",
      "Requirement already satisfied: certifi>=2017.4.17 in /Users/shunwuyu/.pyenv/versions/3.10.14/lib/python3.10/site-packages (from requests->transformers) (2024.8.30)\n"
     ]
    }
   ],
   "source": [
    "!pip install transformers"
   ]
  },
  {
   "cell_type": "code",
   "execution_count": 2,
   "metadata": {},
   "outputs": [
    {
     "name": "stderr",
     "output_type": "stream",
     "text": [
      "Downloading [config.json]: 100%|██████████| 654/654 [00:00<00:00, 1.37kB/s]\n",
      "Downloading [configuration.json]: 100%|██████████| 48.0/48.0 [00:00<00:00, 136B/s]\n",
      "Downloading [generation_config.json]: 100%|██████████| 187/187 [00:00<00:00, 195B/s]\n",
      "Downloading [LICENSE]: 100%|██████████| 7.62k/7.62k [00:00<00:00, 22.7kB/s]\n",
      "Downloading [model-00001-of-00004.safetensors]: 100%|██████████| 4.63G/4.63G [23:01<00:00, 3.60MB/s]  \n",
      "Downloading [model-00002-of-00004.safetensors]:  78%|███████▊  | 3.64G/4.66G [24:46<15:45, 1.15MB/s]  2024-10-27 16:43:01,314 - modelscope - WARNING - Downloading: ./llama_cache/._____temp/LLM-Research/Meta-Llama-3-8B-Instruct/model-00002-of-00004.safetensors failed, reason: ('Connection broken: IncompleteRead(126492745 bytes read, 41279415 more expected)', IncompleteRead(126492745 bytes read, 41279415 more expected)) will retry\n",
      "Downloading [model-00002-of-00004.safetensors]:  81%|████████  | 3.76G/4.66G [24:47<00:28, 34.1MB/s]2024-10-27 16:43:04,107 - modelscope - WARNING - Downloading: ./llama_cache/._____temp/LLM-Research/Meta-Llama-3-8B-Instruct/model-00002-of-00004.safetensors failed, reason: ('Connection broken: IncompleteRead(66559918 bytes read, 101212242 more expected)', IncompleteRead(66559918 bytes read, 101212242 more expected)) will retry\n",
      "Downloading [model-00002-of-00004.safetensors]: 100%|█████████▉| 4.64G/4.66G [34:32<00:43, 459kB/s]  2024-10-27 16:52:46,545 - modelscope - WARNING - Downloading: ./llama_cache/._____temp/LLM-Research/Meta-Llama-3-8B-Instruct/model-00002-of-00004.safetensors failed, reason: ('Connection broken: IncompleteRead(129023463 bytes read, 38748697 more expected)', IncompleteRead(129023463 bytes read, 38748697 more expected)) will retry\n",
      "Downloading [model-00002-of-00004.safetensors]: 4.76GB [34:32, 24.2MB/s]                           2024-10-27 16:52:58,537 - modelscope - WARNING - Downloading: ./llama_cache/._____temp/LLM-Research/Meta-Llama-3-8B-Instruct/model-00002-of-00004.safetensors failed, reason: ('Connection broken: IncompleteRead(29166178 bytes read, 105243902 more expected)', IncompleteRead(29166178 bytes read, 105243902 more expected)) will retry\n",
      "Downloading [model-00002-of-00004.safetensors]: 4.98GB [37:23, 2.38MB/s]\n",
      "Downloading [model-00003-of-00004.safetensors]:  12%|█▏        | 564M/4.58G [08:19<1:39:35, 724kB/s]  2024-10-27 17:04:09,204 - modelscope - WARNING - Downloading: ./llama_cache/._____temp/LLM-Research/Meta-Llama-3-8B-Instruct/model-00003-of-00004.safetensors failed, reason: ('Connection broken: IncompleteRead(140584532 bytes read, 27187628 more expected)', IncompleteRead(140584532 bytes read, 27187628 more expected)) will retry\n",
      "Downloading [model-00003-of-00004.safetensors]:  23%|██▎       | 1.04G/4.58G [15:58<29:37, 2.14MB/s]  2024-10-27 17:11:53,404 - modelscope - WARNING - Downloading: ./llama_cache/._____temp/LLM-Research/Meta-Llama-3-8B-Instruct/model-00003-of-00004.safetensors failed, reason: ('Connection broken: IncompleteRead(69555002 bytes read, 98217158 more expected)', IncompleteRead(69555002 bytes read, 98217158 more expected)) will retry\n",
      "2024-10-27 17:11:53,406 - modelscope - WARNING - Downloading: ./llama_cache/._____temp/LLM-Research/Meta-Llama-3-8B-Instruct/model-00003-of-00004.safetensors failed, reason: ('Connection broken: IncompleteRead(81599892 bytes read, 86172268 more expected)', IncompleteRead(81599892 bytes read, 86172268 more expected)) will retry\n",
      "Downloading [model-00003-of-00004.safetensors]:  29%|██▊       | 1.31G/4.58G [17:40<2:04:04, 472kB/s]2024-10-27 17:13:43,623 - modelscope - WARNING - Downloading: ./llama_cache/._____temp/LLM-Research/Meta-Llama-3-8B-Instruct/model-00003-of-00004.safetensors failed, reason: ('Connection broken: IncompleteRead(35218843 bytes read, 51812965 more expected)', IncompleteRead(35218843 bytes read, 51812965 more expected)) will retry\n",
      "Downloading [model-00003-of-00004.safetensors]:  31%|███       | 1.42G/4.58G [18:04<15:55, 3.55MB/s] 2024-10-27 17:13:49,736 - modelscope - WARNING - Downloading: ./llama_cache/._____temp/LLM-Research/Meta-Llama-3-8B-Instruct/model-00003-of-00004.safetensors failed, reason: ('Connection broken: IncompleteRead(81620370 bytes read, 86151790 more expected)', IncompleteRead(81620370 bytes read, 86151790 more expected)) will retry\n",
      "Downloading [model-00003-of-00004.safetensors]:  33%|███▎      | 1.49G/4.58G [18:04<06:52, 8.04MB/s]2024-10-27 17:13:50,641 - modelscope - WARNING - Downloading: ./llama_cache/._____temp/LLM-Research/Meta-Llama-3-8B-Instruct/model-00003-of-00004.safetensors failed, reason: ('Connection aborted.', ConnectionResetError(54, 'Connection reset by peer')) will retry\n",
      "2024-10-27 17:13:52,773 - modelscope - WARNING - Downloading: ./llama_cache/._____temp/LLM-Research/Meta-Llama-3-8B-Instruct/model-00003-of-00004.safetensors failed, reason: ('Connection broken: IncompleteRead(23125395 bytes read, 75440749 more expected)', IncompleteRead(23125395 bytes read, 75440749 more expected)) will retry\n",
      "Downloading [model-00003-of-00004.safetensors]:  43%|████▎     | 1.98G/4.58G [23:58<49:01, 948kB/s]  2024-10-27 17:19:44,334 - modelscope - WARNING - Downloading: ./llama_cache/._____temp/LLM-Research/Meta-Llama-3-8B-Instruct/model-00003-of-00004.safetensors failed, reason: ('Connection broken: IncompleteRead(37543936 bytes read, 130228224 more expected)', IncompleteRead(37543936 bytes read, 130228224 more expected)) will retry\n",
      "Downloading [model-00003-of-00004.safetensors]:  44%|████▍     | 2.02G/4.58G [23:59<04:17, 10.7MB/s]2024-10-27 17:19:45,223 - modelscope - WARNING - Downloading: ./llama_cache/._____temp/LLM-Research/Meta-Llama-3-8B-Instruct/model-00003-of-00004.safetensors failed, reason: ('Connection broken: IncompleteRead(69972744 bytes read, 17059064 more expected)', IncompleteRead(69972744 bytes read, 17059064 more expected)) will retry\n",
      "Downloading [model-00003-of-00004.safetensors]:  91%|█████████ | 4.15G/4.58G [52:45<34:11, 223kB/s]  2024-10-27 17:48:30,451 - modelscope - WARNING - Downloading: ./llama_cache/._____temp/LLM-Research/Meta-Llama-3-8B-Instruct/model-00003-of-00004.safetensors failed, reason: ('Connection broken: IncompleteRead(89836946 bytes read, 77935214 more expected)', IncompleteRead(89836946 bytes read, 77935214 more expected)) will retry\n",
      "Downloading [model-00003-of-00004.safetensors]:  93%|█████████▎| 4.24G/4.58G [52:54<01:31, 3.95MB/s]2024-10-27 17:48:39,833 - modelscope - WARNING - Downloading: ./llama_cache/._____temp/LLM-Research/Meta-Llama-3-8B-Instruct/model-00003-of-00004.safetensors failed, reason: ('Connection broken: IncompleteRead(2488904 bytes read, 165283256 more expected)', IncompleteRead(2488904 bytes read, 165283256 more expected)) will retry\n",
      "Downloading [model-00003-of-00004.safetensors]:  94%|█████████▎| 4.28G/4.58G [53:49<04:38, 1.14MB/s]2024-10-27 17:50:18,563 - modelscope - WARNING - Downloading: ./llama_cache/._____temp/LLM-Research/Meta-Llama-3-8B-Instruct/model-00003-of-00004.safetensors failed, reason: HTTPSConnectionPool(host='www.modelscope.cn', port=443): Read timed out. will retry\n",
      "Downloading [model-00003-of-00004.safetensors]:  94%|█████████▍| 4.29G/4.58G [54:46<09:07, 557kB/s]   2024-10-27 17:50:31,629 - modelscope - WARNING - Downloading: ./llama_cache/._____temp/LLM-Research/Meta-Llama-3-8B-Instruct/model-00003-of-00004.safetensors failed, reason: HTTPSConnectionPool(host='www.modelscope.cn', port=443): Read timed out. will retry\n",
      "Downloading [model-00003-of-00004.safetensors]:  94%|█████████▍| 4.31G/4.58G [54:52<03:35, 1.35MB/s]2024-10-27 17:50:44,711 - modelscope - WARNING - Downloading: ./llama_cache/._____temp/LLM-Research/Meta-Llama-3-8B-Instruct/model-00003-of-00004.safetensors failed, reason: HTTPSConnectionPool(host='www.modelscope.cn', port=443): Read timed out. will retry\n",
      "Downloading [model-00003-of-00004.safetensors]:  96%|█████████▌| 4.40G/4.58G [55:01<00:21, 8.88MB/s]2024-10-27 17:50:48,137 - modelscope - WARNING - Downloading: ./llama_cache/._____temp/LLM-Research/Meta-Llama-3-8B-Instruct/model-00003-of-00004.safetensors failed, reason: HTTPSConnectionPool(host='www.modelscope.cn', port=443): Read timed out. will retry\n",
      "Downloading [model-00003-of-00004.safetensors]: 4.62GB [57:09, 130kB/s]                             2024-10-27 17:53:00,633 - modelscope - WARNING - Downloading: ./llama_cache/._____temp/LLM-Research/Meta-Llama-3-8B-Instruct/model-00003-of-00004.safetensors failed, reason: ('Connection broken: IncompleteRead(32677266 bytes read, 126706286 more expected)', IncompleteRead(32677266 bytes read, 126706286 more expected)) will retry\n",
      "Downloading [model-00003-of-00004.safetensors]: 4.66GB [57:24, 1.25MB/s]2024-10-27 17:53:10,450 - modelscope - WARNING - Downloading: ./llama_cache/._____temp/LLM-Research/Meta-Llama-3-8B-Instruct/model-00003-of-00004.safetensors failed, reason: HTTPSConnectionPool(host='www.modelscope.cn', port=443): Read timed out. will retry\n",
      "Downloading [model-00003-of-00004.safetensors]: 4.66GB [57:26, 1.19MB/s]2024-10-27 17:53:11,587 - modelscope - WARNING - Downloading: ./llama_cache/._____temp/LLM-Research/Meta-Llama-3-8B-Instruct/model-00003-of-00004.safetensors failed, reason: ('Connection broken: IncompleteRead(7557856 bytes read, 160214304 more expected)', IncompleteRead(7557856 bytes read, 160214304 more expected)) will retry\n",
      "Downloading [model-00003-of-00004.safetensors]: 4.78GB [57:33, 11.4MB/s]2024-10-27 17:53:23,297 - modelscope - WARNING - Downloading: ./llama_cache/._____temp/LLM-Research/Meta-Llama-3-8B-Instruct/model-00003-of-00004.safetensors failed, reason: HTTPSConnectionPool(host='www.modelscope.cn', port=443): Read timed out. will retry\n",
      "Downloading [model-00003-of-00004.safetensors]: 4.88GB [59:49, 296kB/s] 2024-10-27 17:55:37,549 - modelscope - WARNING - Downloading: ./llama_cache/._____temp/LLM-Research/Meta-Llama-3-8B-Instruct/model-00003-of-00004.safetensors failed, reason: ('Connection broken: IncompleteRead(12001024 bytes read, 39379200 more expected)', IncompleteRead(12001024 bytes read, 39379200 more expected)) will retry\n",
      "Downloading [model-00003-of-00004.safetensors]: 5.01GB [1:00:34, 989kB/s] 2024-10-27 17:56:19,929 - modelscope - WARNING - Downloading: ./llama_cache/._____temp/LLM-Research/Meta-Llama-3-8B-Instruct/model-00003-of-00004.safetensors failed, reason: ('Connection broken: IncompleteRead(24399872 bytes read, 109817856 more expected)', IncompleteRead(24399872 bytes read, 109817856 more expected)) will retry\n",
      "Downloading [model-00003-of-00004.safetensors]: 5.07GB [1:00:39, 25.2MB/s]2024-10-27 17:56:25,585 - modelscope - WARNING - Downloading: ./llama_cache/._____temp/LLM-Research/Meta-Llama-3-8B-Instruct/model-00003-of-00004.safetensors failed, reason: ('Connection broken: IncompleteRead(24797184 bytes read, 135634944 more expected)', IncompleteRead(24797184 bytes read, 135634944 more expected)) will retry\n",
      "Downloading [model-00003-of-00004.safetensors]: 6.12GB [1:09:11, 1.58MB/s]\n",
      "Downloading [model-00004-of-00004.safetensors]: 100%|██████████| 1.09G/1.09G [06:38<00:00, 2.93MB/s]\n",
      "Downloading [model.safetensors.index.json]: 100%|██████████| 23.4k/23.4k [00:00<00:00, 49.7kB/s]\n",
      "Downloading [README.md]: 100%|██████████| 36.3k/36.3k [00:00<00:00, 96.8kB/s]\n",
      "Downloading [special_tokens_map.json]: 100%|██████████| 73.0/73.0 [00:00<00:00, 153B/s]\n",
      "Downloading [tokenizer.json]: 100%|██████████| 8.66M/8.66M [00:04<00:00, 2.25MB/s]\n",
      "Downloading [tokenizer_config.json]: 100%|██████████| 49.8k/49.8k [00:00<00:00, 122kB/s]\n",
      "Downloading [USE_POLICY.md]: 100%|██████████| 4.59k/4.59k [00:00<00:00, 14.3kB/s]\n"
     ]
    }
   ],
   "source": [
    "\n",
    "from modelscope import snapshot_download\n",
    "#  因果 分词\n",
    "# from transformers import AutoModelForCausalLM, AutoTokenizer\n",
    "# 设置缓存目录\n",
    "cache_dir = './llama_cache'\n",
    "# model_id 是模型操作符\n",
    "model_id = snapshot_download(\"LLM-Research/Meta-Llama-3-8B-Instruct\", cache_dir=cache_dir)"
   ]
  }
 ],
 "metadata": {
  "kernelspec": {
   "display_name": "Python 3",
   "language": "python",
   "name": "python3"
  },
  "language_info": {
   "codemirror_mode": {
    "name": "ipython",
    "version": 3
   },
   "file_extension": ".py",
   "mimetype": "text/x-python",
   "name": "python",
   "nbconvert_exporter": "python",
   "pygments_lexer": "ipython3",
   "version": "3.13.0"
  }
 },
 "nbformat": 4,
 "nbformat_minor": 2
}
