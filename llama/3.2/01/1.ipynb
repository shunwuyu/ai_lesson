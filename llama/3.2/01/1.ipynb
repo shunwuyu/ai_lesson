{
 "cells": [
  {
   "cell_type": "code",
   "execution_count": 5,
   "metadata": {},
   "outputs": [],
   "source": [
    "!pip3 install modelscope --q"
   ]
  },
  {
   "cell_type": "code",
   "execution_count": 4,
   "metadata": {},
   "outputs": [],
   "source": [
    "!pyenv global 3.10.14"
   ]
  },
  {
   "cell_type": "code",
   "execution_count": 6,
   "metadata": {},
   "outputs": [
    {
     "name": "stdout",
     "output_type": "stream",
     "text": [
      "Requirement already satisfied: transformers in /Users/shunwuyu/.pyenv/versions/3.10.14/lib/python3.10/site-packages (4.46.0)\n",
      "Requirement already satisfied: huggingface-hub<1.0,>=0.23.2 in /Users/shunwuyu/.pyenv/versions/3.10.14/lib/python3.10/site-packages (from transformers) (0.26.1)\n",
      "Requirement already satisfied: numpy>=1.17 in /Users/shunwuyu/.pyenv/versions/3.10.14/lib/python3.10/site-packages (from transformers) (2.1.2)\n",
      "Requirement already satisfied: packaging>=20.0 in /Users/shunwuyu/.pyenv/versions/3.10.14/lib/python3.10/site-packages (from transformers) (24.1)\n",
      "Requirement already satisfied: safetensors>=0.4.1 in /Users/shunwuyu/.pyenv/versions/3.10.14/lib/python3.10/site-packages (from transformers) (0.4.5)\n",
      "Requirement already satisfied: tqdm>=4.27 in /Users/shunwuyu/.pyenv/versions/3.10.14/lib/python3.10/site-packages (from transformers) (4.66.5)\n",
      "Requirement already satisfied: filelock in /Users/shunwuyu/.pyenv/versions/3.10.14/lib/python3.10/site-packages (from transformers) (3.16.1)\n",
      "Requirement already satisfied: requests in /Users/shunwuyu/.pyenv/versions/3.10.14/lib/python3.10/site-packages (from transformers) (2.32.3)\n",
      "Requirement already satisfied: regex!=2019.12.17 in /Users/shunwuyu/.pyenv/versions/3.10.14/lib/python3.10/site-packages (from transformers) (2024.9.11)\n",
      "Requirement already satisfied: pyyaml>=5.1 in /Users/shunwuyu/.pyenv/versions/3.10.14/lib/python3.10/site-packages (from transformers) (6.0.2)\n",
      "Requirement already satisfied: tokenizers<0.21,>=0.20 in /Users/shunwuyu/.pyenv/versions/3.10.14/lib/python3.10/site-packages (from transformers) (0.20.1)\n",
      "Requirement already satisfied: fsspec>=2023.5.0 in /Users/shunwuyu/.pyenv/versions/3.10.14/lib/python3.10/site-packages (from huggingface-hub<1.0,>=0.23.2->transformers) (2024.10.0)\n",
      "Requirement already satisfied: typing-extensions>=3.7.4.3 in /Users/shunwuyu/.pyenv/versions/3.10.14/lib/python3.10/site-packages (from huggingface-hub<1.0,>=0.23.2->transformers) (4.12.2)\n",
      "Requirement already satisfied: certifi>=2017.4.17 in /Users/shunwuyu/.pyenv/versions/3.10.14/lib/python3.10/site-packages (from requests->transformers) (2024.8.30)\n",
      "Requirement already satisfied: idna<4,>=2.5 in /Users/shunwuyu/.pyenv/versions/3.10.14/lib/python3.10/site-packages (from requests->transformers) (3.10)\n",
      "Requirement already satisfied: urllib3<3,>=1.21.1 in /Users/shunwuyu/.pyenv/versions/3.10.14/lib/python3.10/site-packages (from requests->transformers) (2.2.3)\n",
      "Requirement already satisfied: charset-normalizer<4,>=2 in /Users/shunwuyu/.pyenv/versions/3.10.14/lib/python3.10/site-packages (from requests->transformers) (3.4.0)\n",
      "\n",
      "\u001b[1m[\u001b[0m\u001b[34;49mnotice\u001b[0m\u001b[1;39;49m]\u001b[0m\u001b[39;49m A new release of pip is available: \u001b[0m\u001b[31;49m23.0.1\u001b[0m\u001b[39;49m -> \u001b[0m\u001b[32;49m24.2\u001b[0m\n",
      "\u001b[1m[\u001b[0m\u001b[34;49mnotice\u001b[0m\u001b[1;39;49m]\u001b[0m\u001b[39;49m To update, run: \u001b[0m\u001b[32;49mpip install --upgrade pip\u001b[0m\n"
     ]
    }
   ],
   "source": [
    "!pip install transformers"
   ]
  },
  {
   "cell_type": "code",
   "execution_count": 11,
   "metadata": {},
   "outputs": [
    {
     "name": "stdout",
     "output_type": "stream",
     "text": [
      "Requirement already satisfied: transformers in /Users/shunwuyu/.pyenv/versions/3.10.14/lib/python3.10/site-packages (4.46.0)\n",
      "Requirement already satisfied: filelock in /Users/shunwuyu/.pyenv/versions/3.10.14/lib/python3.10/site-packages (from transformers) (3.16.1)\n",
      "Requirement already satisfied: huggingface-hub<1.0,>=0.23.2 in /Users/shunwuyu/.pyenv/versions/3.10.14/lib/python3.10/site-packages (from transformers) (0.26.1)\n",
      "Requirement already satisfied: numpy>=1.17 in /Users/shunwuyu/.pyenv/versions/3.10.14/lib/python3.10/site-packages (from transformers) (2.1.2)\n",
      "Requirement already satisfied: packaging>=20.0 in /Users/shunwuyu/.pyenv/versions/3.10.14/lib/python3.10/site-packages (from transformers) (24.1)\n",
      "Requirement already satisfied: pyyaml>=5.1 in /Users/shunwuyu/.pyenv/versions/3.10.14/lib/python3.10/site-packages (from transformers) (6.0.2)\n",
      "Requirement already satisfied: regex!=2019.12.17 in /Users/shunwuyu/.pyenv/versions/3.10.14/lib/python3.10/site-packages (from transformers) (2024.9.11)\n",
      "Requirement already satisfied: requests in /Users/shunwuyu/.pyenv/versions/3.10.14/lib/python3.10/site-packages (from transformers) (2.32.3)\n",
      "Requirement already satisfied: safetensors>=0.4.1 in /Users/shunwuyu/.pyenv/versions/3.10.14/lib/python3.10/site-packages (from transformers) (0.4.5)\n",
      "Requirement already satisfied: tokenizers<0.21,>=0.20 in /Users/shunwuyu/.pyenv/versions/3.10.14/lib/python3.10/site-packages (from transformers) (0.20.1)\n",
      "Requirement already satisfied: tqdm>=4.27 in /Users/shunwuyu/.pyenv/versions/3.10.14/lib/python3.10/site-packages (from transformers) (4.66.5)\n",
      "Requirement already satisfied: fsspec>=2023.5.0 in /Users/shunwuyu/.pyenv/versions/3.10.14/lib/python3.10/site-packages (from huggingface-hub<1.0,>=0.23.2->transformers) (2024.10.0)\n",
      "Requirement already satisfied: typing-extensions>=3.7.4.3 in /Users/shunwuyu/.pyenv/versions/3.10.14/lib/python3.10/site-packages (from huggingface-hub<1.0,>=0.23.2->transformers) (4.12.2)\n",
      "Requirement already satisfied: charset-normalizer<4,>=2 in /Users/shunwuyu/.pyenv/versions/3.10.14/lib/python3.10/site-packages (from requests->transformers) (3.4.0)\n",
      "Requirement already satisfied: idna<4,>=2.5 in /Users/shunwuyu/.pyenv/versions/3.10.14/lib/python3.10/site-packages (from requests->transformers) (3.10)\n",
      "Requirement already satisfied: urllib3<3,>=1.21.1 in /Users/shunwuyu/.pyenv/versions/3.10.14/lib/python3.10/site-packages (from requests->transformers) (2.2.3)\n",
      "Requirement already satisfied: certifi>=2017.4.17 in /Users/shunwuyu/.pyenv/versions/3.10.14/lib/python3.10/site-packages (from requests->transformers) (2024.8.30)\n"
     ]
    }
   ],
   "source": [
    "!pip install transformers"
   ]
  },
  {
   "cell_type": "code",
   "execution_count": 2,
   "metadata": {},
   "outputs": [
    {
     "name": "stderr",
     "output_type": "stream",
     "text": [
      "Downloading [config.json]: 100%|██████████| 654/654 [00:00<00:00, 1.37kB/s]\n",
      "Downloading [configuration.json]: 100%|██████████| 48.0/48.0 [00:00<00:00, 136B/s]\n",
      "Downloading [generation_config.json]: 100%|██████████| 187/187 [00:00<00:00, 195B/s]\n",
      "Downloading [LICENSE]: 100%|██████████| 7.62k/7.62k [00:00<00:00, 22.7kB/s]\n",
      "Downloading [model-00001-of-00004.safetensors]: 100%|██████████| 4.63G/4.63G [23:01<00:00, 3.60MB/s]  \n",
      "Downloading [model-00002-of-00004.safetensors]:  78%|███████▊  | 3.64G/4.66G [24:46<15:45, 1.15MB/s]  2024-10-27 16:43:01,314 - modelscope - WARNING - Downloading: ./llama_cache/._____temp/LLM-Research/Meta-Llama-3-8B-Instruct/model-00002-of-00004.safetensors failed, reason: ('Connection broken: IncompleteRead(126492745 bytes read, 41279415 more expected)', IncompleteRead(126492745 bytes read, 41279415 more expected)) will retry\n",
      "Downloading [model-00002-of-00004.safetensors]:  81%|████████  | 3.76G/4.66G [24:47<00:28, 34.1MB/s]2024-10-27 16:43:04,107 - modelscope - WARNING - Downloading: ./llama_cache/._____temp/LLM-Research/Meta-Llama-3-8B-Instruct/model-00002-of-00004.safetensors failed, reason: ('Connection broken: IncompleteRead(66559918 bytes read, 101212242 more expected)', IncompleteRead(66559918 bytes read, 101212242 more expected)) will retry\n",
      "Downloading [model-00002-of-00004.safetensors]: 100%|█████████▉| 4.64G/4.66G [34:32<00:43, 459kB/s]  2024-10-27 16:52:46,545 - modelscope - WARNING - Downloading: ./llama_cache/._____temp/LLM-Research/Meta-Llama-3-8B-Instruct/model-00002-of-00004.safetensors failed, reason: ('Connection broken: IncompleteRead(129023463 bytes read, 38748697 more expected)', IncompleteRead(129023463 bytes read, 38748697 more expected)) will retry\n",
      "Downloading [model-00002-of-00004.safetensors]: 4.76GB [34:32, 24.2MB/s]                           2024-10-27 16:52:58,537 - modelscope - WARNING - Downloading: ./llama_cache/._____temp/LLM-Research/Meta-Llama-3-8B-Instruct/model-00002-of-00004.safetensors failed, reason: ('Connection broken: IncompleteRead(29166178 bytes read, 105243902 more expected)', IncompleteRead(29166178 bytes read, 105243902 more expected)) will retry\n",
      "Downloading [model-00002-of-00004.safetensors]: 4.98GB [37:23, 2.38MB/s]\n",
      "Downloading [model-00003-of-00004.safetensors]:  12%|█▏        | 564M/4.58G [08:19<1:39:35, 724kB/s]  2024-10-27 17:04:09,204 - modelscope - WARNING - Downloading: ./llama_cache/._____temp/LLM-Research/Meta-Llama-3-8B-Instruct/model-00003-of-00004.safetensors failed, reason: ('Connection broken: IncompleteRead(140584532 bytes read, 27187628 more expected)', IncompleteRead(140584532 bytes read, 27187628 more expected)) will retry\n",
      "Downloading [model-00003-of-00004.safetensors]:  23%|██▎       | 1.04G/4.58G [15:58<29:37, 2.14MB/s]  2024-10-27 17:11:53,404 - modelscope - WARNING - Downloading: ./llama_cache/._____temp/LLM-Research/Meta-Llama-3-8B-Instruct/model-00003-of-00004.safetensors failed, reason: ('Connection broken: IncompleteRead(69555002 bytes read, 98217158 more expected)', IncompleteRead(69555002 bytes read, 98217158 more expected)) will retry\n",
      "2024-10-27 17:11:53,406 - modelscope - WARNING - Downloading: ./llama_cache/._____temp/LLM-Research/Meta-Llama-3-8B-Instruct/model-00003-of-00004.safetensors failed, reason: ('Connection broken: IncompleteRead(81599892 bytes read, 86172268 more expected)', IncompleteRead(81599892 bytes read, 86172268 more expected)) will retry\n",
      "Downloading [model-00003-of-00004.safetensors]:  26%|██▌       | 1.18G/4.58G [16:10<14:05, 4.31MB/s]"
     ]
    }
   ],
   "source": [
    "\n",
    "from modelscope import snapshot_download\n",
    "#  因果 分词\n",
    "# from transformers import AutoModelForCausalLM, AutoTokenizer\n",
    "# 设置缓存目录\n",
    "cache_dir = './llama_cache'\n",
    "# model_id 是模型操作符\n",
    "model_id = snapshot_download(\"LLM-Research/Meta-Llama-3-8B-Instruct\", cache_dir=cache_dir)"
   ]
  }
 ],
 "metadata": {
  "kernelspec": {
   "display_name": "Python 3",
   "language": "python",
   "name": "python3"
  },
  "language_info": {
   "codemirror_mode": {
    "name": "ipython",
    "version": 3
   },
   "file_extension": ".py",
   "mimetype": "text/x-python",
   "name": "python",
   "nbconvert_exporter": "python",
   "pygments_lexer": "ipython3",
   "version": "3.13.0"
  }
 },
 "nbformat": 4,
 "nbformat_minor": 2
}
