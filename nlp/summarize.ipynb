{
 "cells": [
  {
   "cell_type": "code",
   "execution_count": null,
   "metadata": {},
   "outputs": [
    {
     "ename": "",
     "evalue": "",
     "output_type": "error",
     "traceback": [
      "\u001b[1;31m无法启动 Kernel \"Python 3.10.15\"。 \n",
      "\u001b[1;31m查看 Jupyter <a href='command:jupyter.viewOutput'>log</a>，了解更多详细信息。 Cannot read properties of undefined (reading 'on')"
     ]
    }
   ],
   "source": [
    "# 导入必要的模块和类\n",
    "from modelscope.outputs import OutputKeys  # 输出键常量，用于从结果中提取特定信息\n",
    "from modelscope.pipelines import pipeline  # pipeline函数，简化模型调用过程\n",
    "from modelscope.utils.constant import Tasks  # 定义了各种任务类型\n",
    "\n",
    "# 创建一个pipeline实例，指定任务类型为抽取式摘要，并选择具体的模型\n",
    "p = pipeline(\n",
    "    task=Tasks.extractive_summarization,  # 设置任务为抽取式摘要\n",
    "    model='iic/nlp_ponet_extractive-summarization_doc-level_chinese-base'  # 使用的模型名称\n",
    ")\n",
    "\n",
    "# 输入文档，这里是一个关于移动端语音唤醒模型的描述\n",
    "documents = ('移动端语音唤醒模型，检测关键词为“小云小云”。模型主体为4层FSMN结构，'\n",
    "             '使用CTC训练准则，参数量750K，适用于移动端设备运行。模型输入为Fbank特征，'\n",
    "             '输出为基于char建模的中文全集token预测，测试工具根据每一帧的预测数据进行后处理得到输入音频的实时检测结果。'\n",
    "             '模型训练采用“basetrain + finetune”的模式，basetrain过程使用大量内部移动端数据，在此基础上，'\n",
    "             '使用1万条设备端录制安静场景“小云小云”数据进行微调，得到最终面向业务的模型。后续用户可在basetrain模型基础上，'\n",
    "             '使用其他关键词数据进行微调，得到新的语音唤醒模型，但暂时未开放模型finetune功能。')\n",
    "\n",
    "# 使用pipeline对象对输入文档进行摘要\n",
    "result = p(documents=documents)\n",
    "\n",
    "# 从结果中提取摘要文本并打印出来\n",
    "# OutputKeys.TEXT 是一个常量，代表结果字典中的键，该键对应的值是生成的摘要文本\n",
    "print(result[OutputKeys.TEXT])"
   ]
  }
 ],
 "metadata": {
  "kernelspec": {
   "display_name": "Python 3",
   "language": "python",
   "name": "python3"
  },
  "language_info": {
   "name": "python",
   "version": "3.10.15"
  }
 },
 "nbformat": 4,
 "nbformat_minor": 2
}
