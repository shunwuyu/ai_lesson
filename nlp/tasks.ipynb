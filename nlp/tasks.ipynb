{
 "cells": [
  {
   "cell_type": "code",
   "execution_count": null,
   "metadata": {},
   "outputs": [
    {
     "ename": "",
     "evalue": "",
     "output_type": "error",
     "traceback": [
      "\u001b[1;31m无法启动 Kernel \"Python 3.10.15\"。 \n",
      "\u001b[1;31m查看 Jupyter <a href='command:jupyter.viewOutput'>log</a>，了解更多详细信息。 Cannot read properties of undefined (reading 'on')"
     ]
    }
   ],
   "source": [
    "from modelscope.utils.constant import Tasks\n",
    "\n",
    "def print_all_tasks():\n",
    "    # 使用 dir 函数来列出 Tasks 类中的所有属性和方法\n",
    "    tasks_attributes = dir(Tasks)\n",
    "\n",
    "    # 过滤掉以双下划线开头的特殊方法和属性，只保留实际的任务名\n",
    "    tasks = [task for task in tasks_attributes if not task.startswith('__')]\n",
    "\n",
    "    # 打印所有任务\n",
    "    for task in tasks:\n",
    "        print(task)\n",
    "\n",
    "# 调用函数打印所有任务\n",
    "print_all_tasks()"
   ]
  }
 ],
 "metadata": {
  "kernelspec": {
   "display_name": "Python 3",
   "language": "python",
   "name": "python3"
  },
  "language_info": {
   "name": "python",
   "version": "3.10.15"
  }
 },
 "nbformat": 4,
 "nbformat_minor": 2
}
