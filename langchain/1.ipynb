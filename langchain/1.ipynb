{
 "cells": [
  {
   "cell_type": "code",
   "execution_count": 3,
   "metadata": {},
   "outputs": [
    {
     "ename": "ModuleNotFoundError",
     "evalue": "No module named 'langchain'",
     "output_type": "error",
     "traceback": [
      "\u001b[1;31m---------------------------------------------------------------------------\u001b[0m",
      "\u001b[1;31mModuleNotFoundError\u001b[0m                       Traceback (most recent call last)",
      "Cell \u001b[1;32mIn[3], line 1\u001b[0m\n\u001b[1;32m----> 1\u001b[0m \u001b[38;5;28;01mfrom\u001b[39;00m \u001b[38;5;21;01mlangchain\u001b[39;00m \u001b[38;5;28;01mimport\u001b[39;00m PromptTemplate\n\u001b[0;32m      2\u001b[0m \u001b[38;5;66;03m# 模板中包含参数 src_lang dst_lang\u001b[39;00m\n\u001b[0;32m      3\u001b[0m template \u001b[38;5;241m=\u001b[39m \u001b[38;5;124m\"\"\"\u001b[39m\n\u001b[0;32m      4\u001b[0m \u001b[38;5;124m你精通多种语言，是专业的翻译官。你负责\u001b[39m\u001b[38;5;132;01m{src_lang}\u001b[39;00m\u001b[38;5;124m到\u001b[39m\u001b[38;5;132;01m{dst_lang}\u001b[39;00m\u001b[38;5;124m的翻译工作。\u001b[39m\n\u001b[0;32m      5\u001b[0m \u001b[38;5;124m\"\"\"\u001b[39m\n",
      "\u001b[1;31mModuleNotFoundError\u001b[0m: No module named 'langchain'"
     ]
    }
   ],
   "source": []
  },
  {
   "cell_type": "code",
   "execution_count": null,
   "metadata": {},
   "outputs": [],
   "source": []
  },
  {
   "cell_type": "code",
   "execution_count": null,
   "metadata": {},
   "outputs": [],
   "source": []
  },
  {
   "cell_type": "code",
   "execution_count": 5,
   "metadata": {},
   "outputs": [
    {
     "name": "stdout",
     "output_type": "stream",
     "text": [
      "Looking in indexes: https://pypi.tuna.tsinghua.edu.cn/simple\n",
      "Requirement already satisfied: langchain==0.0.235 in c:\\users\\喻顺武\\appdata\\local\\programs\\python\\python39\\lib\\site-packages (0.0.235)\n",
      "Requirement already satisfied: langsmith<0.0.8,>=0.0.7 in c:\\users\\喻顺武\\appdata\\local\\programs\\python\\python39\\lib\\site-packages (from langchain==0.0.235) (0.0.7)\n",
      "Requirement already satisfied: async-timeout<5.0.0,>=4.0.0; python_version < \"3.11\" in c:\\users\\喻顺武\\appdata\\local\\programs\\python\\python39\\lib\\site-packages (from langchain==0.0.235) (4.0.3)\n",
      "Requirement already satisfied: numpy<2,>=1 in c:\\users\\喻顺武\\appdata\\local\\programs\\python\\python39\\lib\\site-packages (from langchain==0.0.235) (1.26.1)\n",
      "Requirement already satisfied: dataclasses-json<0.6.0,>=0.5.7 in c:\\users\\喻顺武\\appdata\\local\\programs\\python\\python39\\lib\\site-packages (from langchain==0.0.235) (0.5.14)\n",
      "Requirement already satisfied: tenacity<9.0.0,>=8.1.0 in c:\\users\\喻顺武\\appdata\\local\\programs\\python\\python39\\lib\\site-packages (from langchain==0.0.235) (8.2.3)\n",
      "Requirement already satisfied: numexpr<3.0.0,>=2.8.4 in c:\\users\\喻顺武\\appdata\\local\\programs\\python\\python39\\lib\\site-packages (from langchain==0.0.235) (2.8.8)\n",
      "Requirement already satisfied: SQLAlchemy<3,>=1.4 in c:\\users\\喻顺武\\appdata\\local\\programs\\python\\python39\\lib\\site-packages (from langchain==0.0.235) (2.0.23)\n",
      "Requirement already satisfied: openapi-schema-pydantic<2.0,>=1.2 in c:\\users\\喻顺武\\appdata\\local\\programs\\python\\python39\\lib\\site-packages (from langchain==0.0.235) (1.2.4)\n",
      "Requirement already satisfied: requests<3,>=2 in c:\\users\\喻顺武\\appdata\\local\\programs\\python\\python39\\lib\\site-packages (from langchain==0.0.235) (2.31.0)\n",
      "Requirement already satisfied: pydantic<2,>=1 in c:\\users\\喻顺武\\appdata\\local\\programs\\python\\python39\\lib\\site-packages (from langchain==0.0.235) (1.10.13)\n",
      "Requirement already satisfied: aiohttp<4.0.0,>=3.8.3 in c:\\users\\喻顺武\\appdata\\local\\programs\\python\\python39\\lib\\site-packages (from langchain==0.0.235) (3.9.1)\n",
      "Requirement already satisfied: PyYAML>=5.4.1 in c:\\users\\喻顺武\\appdata\\local\\programs\\python\\python39\\lib\\site-packages (from langchain==0.0.235) (6.0.1)\n",
      "Requirement already satisfied: typing-inspect<1,>=0.4.0 in c:\\users\\喻顺武\\appdata\\local\\programs\\python\\python39\\lib\\site-packages (from dataclasses-json<0.6.0,>=0.5.7->langchain==0.0.235) (0.9.0)\n",
      "Requirement already satisfied: marshmallow<4.0.0,>=3.18.0 in c:\\users\\喻顺武\\appdata\\local\\programs\\python\\python39\\lib\\site-packages (from dataclasses-json<0.6.0,>=0.5.7->langchain==0.0.235) (3.20.1)\n",
      "Requirement already satisfied: greenlet!=0.4.17; platform_machine == \"aarch64\" or (platform_machine == \"ppc64le\" or (platform_machine == \"x86_64\" or (platform_machine == \"amd64\" or (platform_machine == \"AMD64\" or (platform_machine == \"win32\" or platform_machine == \"WIN32\"))))) in c:\\users\\喻顺武\\appdata\\local\\programs\\python\\python39\\lib\\site-packages (from SQLAlchemy<3,>=1.4->langchain==0.0.235) (3.0.2)\n",
      "Requirement already satisfied: typing-extensions>=4.2.0 in c:\\users\\喻顺武\\appdata\\local\\programs\\python\\python39\\lib\\site-packages (from SQLAlchemy<3,>=1.4->langchain==0.0.235) (4.8.0)\n",
      "Requirement already satisfied: charset-normalizer<4,>=2 in c:\\users\\喻顺武\\appdata\\local\\programs\\python\\python39\\lib\\site-packages (from requests<3,>=2->langchain==0.0.235) (3.3.2)\n",
      "Requirement already satisfied: idna<4,>=2.5 in c:\\users\\喻顺武\\appdata\\local\\programs\\python\\python39\\lib\\site-packages (from requests<3,>=2->langchain==0.0.235) (3.4)\n",
      "Requirement already satisfied: certifi>=2017.4.17 in c:\\users\\喻顺武\\appdata\\local\\programs\\python\\python39\\lib\\site-packages (from requests<3,>=2->langchain==0.0.235) (2023.7.22)\n",
      "Requirement already satisfied: urllib3<3,>=1.21.1 in c:\\users\\喻顺武\\appdata\\local\\programs\\python\\python39\\lib\\site-packages (from requests<3,>=2->langchain==0.0.235) (2.0.7)\n",
      "Requirement already satisfied: aiosignal>=1.1.2 in c:\\users\\喻顺武\\appdata\\local\\programs\\python\\python39\\lib\\site-packages (from aiohttp<4.0.0,>=3.8.3->langchain==0.0.235) (1.3.1)\n",
      "Requirement already satisfied: attrs>=17.3.0 in c:\\users\\喻顺武\\appdata\\local\\programs\\python\\python39\\lib\\site-packages (from aiohttp<4.0.0,>=3.8.3->langchain==0.0.235) (23.1.0)\n",
      "Requirement already satisfied: yarl<2.0,>=1.0 in c:\\users\\喻顺武\\appdata\\local\\programs\\python\\python39\\lib\\site-packages (from aiohttp<4.0.0,>=3.8.3->langchain==0.0.235) (1.9.4)\n",
      "Requirement already satisfied: multidict<7.0,>=4.5 in c:\\users\\喻顺武\\appdata\\local\\programs\\python\\python39\\lib\\site-packages (from aiohttp<4.0.0,>=3.8.3->langchain==0.0.235) (6.0.4)\n",
      "Requirement already satisfied: frozenlist>=1.1.1 in c:\\users\\喻顺武\\appdata\\local\\programs\\python\\python39\\lib\\site-packages (from aiohttp<4.0.0,>=3.8.3->langchain==0.0.235) (1.4.0)\n",
      "Requirement already satisfied: mypy-extensions>=0.3.0 in c:\\users\\喻顺武\\appdata\\local\\programs\\python\\python39\\lib\\site-packages (from typing-inspect<1,>=0.4.0->dataclasses-json<0.6.0,>=0.5.7->langchain==0.0.235) (1.0.0)\n",
      "Requirement already satisfied: packaging>=17.0 in c:\\users\\喻顺武\\appdata\\local\\programs\\python\\python39\\lib\\site-packages (from marshmallow<4.0.0,>=3.18.0->dataclasses-json<0.6.0,>=0.5.7->langchain==0.0.235) (23.2)\n"
     ]
    },
    {
     "name": "stderr",
     "output_type": "stream",
     "text": [
      "WARNING: You are using pip version 20.2.3; however, version 23.3.1 is available.\n",
      "You should consider upgrading via the 'c:\\users\\喻顺武\\appdata\\local\\programs\\python\\python39\\python.exe -m pip install --upgrade pip' command.\n"
     ]
    }
   ],
   "source": [
    "!pip install langchain==0.0.235"
   ]
  },
  {
   "cell_type": "code",
   "execution_count": 6,
   "metadata": {},
   "outputs": [
    {
     "name": "stdout",
     "output_type": "stream",
     "text": [
      "\n",
      "你精通多种语言，是专业的翻译官。你负责英文到中文的翻译工作。\n",
      "\n"
     ]
    }
   ],
   "source": [
    "from langchain import PromptTemplate\n",
    "# 模板中包含参数 src_lang dst_lang\n",
    "template = \"\"\"\n",
    "你精通多种语言，是专业的翻译官。你负责{src_lang}到{dst_lang}的翻译工作。\n",
    "\"\"\"\n",
    "\n",
    "prompt = PromptTemplate.from_template(template)\n",
    "print(prompt.format(src_lang=\"英文\", dst_lang=\"中文\"))\n",
    "\n"
   ]
  }
 ],
 "metadata": {
  "kernelspec": {
   "display_name": "Python 3",
   "language": "python",
   "name": "python3"
  },
  "language_info": {
   "codemirror_mode": {
    "name": "ipython",
    "version": 3
   },
   "file_extension": ".py",
   "mimetype": "text/x-python",
   "name": "python",
   "nbconvert_exporter": "python",
   "pygments_lexer": "ipython3",
   "version": "3.9.0"
  }
 },
 "nbformat": 4,
 "nbformat_minor": 2
}
