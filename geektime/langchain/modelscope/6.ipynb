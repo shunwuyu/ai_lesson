{
 "cells": [
  {
   "cell_type": "code",
   "execution_count": 1,
   "id": "4b35ba6c-30a7-457c-8bac-98da12824107",
   "metadata": {
    "execution": {
     "iopub.execute_input": "2025-01-09T03:05:29.489933Z",
     "iopub.status.busy": "2025-01-09T03:05:29.489627Z",
     "iopub.status.idle": "2025-01-09T03:05:29.494966Z",
     "shell.execute_reply": "2025-01-09T03:05:29.494551Z",
     "shell.execute_reply.started": "2025-01-09T03:05:29.489913Z"
    },
    "tags": []
   },
   "outputs": [],
   "source": [
    "import os\n",
    "os.environ[\"OPENAI_API_KEY\"] = 'sk-l20IEZZ2gE1ZXeEmx9OkNLs5LXezNzXry9oxljohAAEx9PTb'\n",
    "os.environ[\"OPENAI_BASE_URL\"] = 'https://api.302.ai/v1/'\n"
   ]
  },
  {
   "cell_type": "code",
   "execution_count": 10,
   "id": "64897751-e412-4495-957b-be32036388bf",
   "metadata": {
    "ExecutionIndicator": {
     "show": true
    },
    "execution": {
     "iopub.execute_input": "2025-01-09T03:14:51.788324Z",
     "iopub.status.busy": "2025-01-09T03:14:51.788001Z",
     "iopub.status.idle": "2025-01-09T03:14:51.878179Z",
     "shell.execute_reply": "2025-01-09T03:14:51.877728Z",
     "shell.execute_reply.started": "2025-01-09T03:14:51.788304Z"
    },
    "tags": []
   },
   "outputs": [],
   "source": [
    "from langchain_openai import ChatOpenAI\n",
    "\n",
    "llm = ChatOpenAI(\n",
    "    model=\"gpt-3.5-turbo\",\n",
    "    temperature=0,\n",
    "    max_tokens=500\n",
    ")\n"
   ]
  },
  {
   "cell_type": "code",
   "execution_count": 5,
   "id": "bf91936c-7d27-4592-ab27-2554aa7977ba",
   "metadata": {
    "ExecutionIndicator": {
     "show": true
    },
    "execution": {
     "iopub.execute_input": "2025-01-09T03:09:20.358754Z",
     "iopub.status.busy": "2025-01-09T03:09:20.358315Z",
     "iopub.status.idle": "2025-01-09T03:09:20.362325Z",
     "shell.execute_reply": "2025-01-09T03:09:20.361723Z",
     "shell.execute_reply.started": "2025-01-09T03:09:20.358731Z"
    },
    "tags": []
   },
   "outputs": [],
   "source": [
    "role_template = \"你是一个为花店电商公司工作的AI助手, 你的目标是帮助客户根据他们的喜好做出明智的决定\"\n",
    "# COT（Chain of Thought，思维链）是一种问题解决方法，通过将复杂问题分解为一系列逻辑连贯的简单步骤或子问题，逐步推导出最终答案，增强了模型的可解释性和准确性。\n",
    "cot_template = \"\"\"\n",
    "作为一个为花店电商公司工作的AI助手，我的目标是帮助客户根据他们的喜好做出明智的决定。 \n",
    "\n",
    "我会按部就班的思考，先理解客户的需求，然后考虑各种鲜花的涵义，最后根据这个需求，给出我的推荐。\n",
    "同时，我也会向客户解释我这样推荐的原因。\n",
    "\n",
    "示例 1:\n",
    "  人类：我想找一种象征爱情的花。\n",
    "  AI：首先，我理解你正在寻找一种可以象征爱情的花。在许多文化中，红玫瑰被视为爱情的象征，这是因为它们的红色通常与热情和浓烈的感情联系在一起。因此，考虑到这一点，我会推荐红玫瑰。红玫瑰不仅能够象征爱情，同时也可以传达出强烈的感情，这是你在寻找的。\n",
    "\n",
    "示例 2:\n",
    "  人类：我想要一些独特和奇特的花。\n",
    "  AI：从你的需求中，我理解你想要的是独一无二和引人注目的花朵。兰花是一种非常独特并且颜色鲜艳的花，它们在世界上的许多地方都被视为奢侈品和美的象征。因此，我建议你考虑兰花。选择兰花可以满足你对独特和奇特的要求，而且，兰花的美丽和它们所代表的力量和奢侈也可能会吸引你。\n",
    "\"\"\""
   ]
  },
  {
   "cell_type": "code",
   "execution_count": 7,
   "id": "f5fa05a8-a3e0-4455-810c-591133321279",
   "metadata": {
    "ExecutionIndicator": {
     "show": true
    },
    "execution": {
     "iopub.execute_input": "2025-01-09T03:12:37.867676Z",
     "iopub.status.busy": "2025-01-09T03:12:37.867347Z",
     "iopub.status.idle": "2025-01-09T03:12:37.872368Z",
     "shell.execute_reply": "2025-01-09T03:12:37.871910Z",
     "shell.execute_reply.started": "2025-01-09T03:12:37.867655Z"
    },
    "tags": []
   },
   "outputs": [
    {
     "name": "stdout",
     "output_type": "stream",
     "text": [
      "[SystemMessage(content='你是一个为花店电商公司工作的AI助手, 你的目标是帮助客户根据他们的喜好做出明智的决定', additional_kwargs={}, response_metadata={}), SystemMessage(content='\\n作为一个为花店电商公司工作的AI助手，我的目标是帮助客户根据他们的喜好做出明智的决定。 \\n\\n我会按部就班的思考，先理解客户的需求，然后考虑各种鲜花的涵义，最后根据这个需求，给出我的推荐。\\n同时，我也会向客户解释我这样推荐的原因。\\n\\n示例 1:\\n  人类：我想找一种象征爱情的花。\\n  AI：首先，我理解你正在寻找一种可以象征爱情的花。在许多文化中，红玫瑰被视为爱情的象征，这是因为它们的红色通常与热情和浓烈的感情联系在一起。因此，考虑到这一点，我会推荐红玫瑰。红玫瑰不仅能够象征爱情，同时也可以传达出强烈的感情，这是你在寻找的。\\n\\n示例 2:\\n  人类：我想要一些独特和奇特的花。\\n  AI：从你的需求中，我理解你想要的是独一无二和引人注目的花朵。兰花是一种非常独特并且颜色鲜艳的花，它们在世界上的许多地方都被视为奢侈品和美的象征。因此，我建议你考虑兰花。选择兰花可以满足你对独特和奇特的要求，而且，兰花的美丽和它们所代表的力量和奢侈也可能会吸引你。\\n', additional_kwargs={}, response_metadata={}), HumanMessage(content='我想为我的女朋友购买一些花。她喜欢粉色和紫色。你有什么建议吗?', additional_kwargs={}, response_metadata={})]\n"
     ]
    }
   ],
   "source": [
    "from langchain.prompts import ChatPromptTemplate, HumanMessagePromptTemplate, SystemMessagePromptTemplate\n",
    "\n",
    "system_prompt_role = SystemMessagePromptTemplate.from_template(role_template)\n",
    "system_prompt_cot = SystemMessagePromptTemplate.from_template(cot_template)\n",
    "\n",
    "# 用户的询问\n",
    "human_template = \"{human_input}\"\n",
    "human_prompt = HumanMessagePromptTemplate.from_template(human_template)\n",
    "\n",
    "# 将以上所有信息结合为一个聊天提示\n",
    "chat_prompt = ChatPromptTemplate.from_messages([system_prompt_role, system_prompt_cot, human_prompt])\n",
    "prompt = chat_prompt.format_prompt(human_input=\"我想为我的女朋友购买一些花。她喜欢粉色和紫色。你有什么建议吗?\").to_messages()\n",
    "print(prompt)"
   ]
  },
  {
   "cell_type": "code",
   "execution_count": null,
   "id": "e4179fc1-69d3-4b9b-9095-206c3dc41e90",
   "metadata": {
    "ExecutionIndicator": {
     "show": true
    },
    "execution": {
     "iopub.execute_input": "2025-01-09T03:14:55.661621Z",
     "iopub.status.busy": "2025-01-09T03:14:55.661304Z"
    },
    "tags": []
   },
   "outputs": [],
   "source": [
    "response = llm.invoke(prompt)\n",
    "print(response)"
   ]
  }
 ],
 "metadata": {
  "kernelspec": {
   "display_name": "Python 3 (ipykernel)",
   "language": "python",
   "name": "python3"
  },
  "language_info": {
   "codemirror_mode": {
    "name": "ipython",
    "version": 3
   },
   "file_extension": ".py",
   "mimetype": "text/x-python",
   "name": "python",
   "nbconvert_exporter": "python",
   "pygments_lexer": "ipython3",
   "version": "3.10.14"
  }
 },
 "nbformat": 4,
 "nbformat_minor": 5
}
