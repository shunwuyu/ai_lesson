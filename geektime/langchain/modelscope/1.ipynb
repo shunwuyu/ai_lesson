{
 "cells": [
  {
   "cell_type": "code",
   "execution_count": 1,
   "id": "ef615b5c-eab7-4d37-aa69-7d4633bdce4a",
   "metadata": {
    "execution": {
     "iopub.execute_input": "2025-01-06T02:45:45.895307Z",
     "iopub.status.busy": "2025-01-06T02:45:45.894990Z",
     "iopub.status.idle": "2025-01-06T02:45:45.900298Z",
     "shell.execute_reply": "2025-01-06T02:45:45.899883Z",
     "shell.execute_reply.started": "2025-01-06T02:45:45.895286Z"
    },
    "tags": []
   },
   "outputs": [],
   "source": [
    "import os\n",
    "os.environ[\"OPENAI_API_KEY\"] = 'sk-yC52cYQkz0aMXJA5PySMUXdpVNBVNgKkdsv5kjEZpdx93PVs'\n",
    "os.environ[\"OPENAI_BASE_URL\"] = 'https://api.302.ai/v1/'"
   ]
  },
  {
   "cell_type": "code",
   "execution_count": 2,
   "id": "7d0acad5-4a28-4c57-a851-784cabcc812c",
   "metadata": {
    "execution": {
     "iopub.execute_input": "2025-01-06T02:45:57.811944Z",
     "iopub.status.busy": "2025-01-06T02:45:57.811625Z",
     "iopub.status.idle": "2025-01-06T02:45:58.758380Z",
     "shell.execute_reply": "2025-01-06T02:45:58.757900Z",
     "shell.execute_reply.started": "2025-01-06T02:45:57.811925Z"
    },
    "tags": []
   },
   "outputs": [],
   "source": [
    "from langchain_openai import OpenAI"
   ]
  },
  {
   "cell_type": "code",
   "execution_count": 3,
   "id": "af37c624-1653-434b-8211-dc9f7105fe1b",
   "metadata": {
    "execution": {
     "iopub.execute_input": "2025-01-06T02:46:14.606826Z",
     "iopub.status.busy": "2025-01-06T02:46:14.606487Z",
     "iopub.status.idle": "2025-01-06T02:46:14.714494Z",
     "shell.execute_reply": "2025-01-06T02:46:14.714037Z",
     "shell.execute_reply.started": "2025-01-06T02:46:14.606792Z"
    },
    "tags": []
   },
   "outputs": [],
   "source": [
    "llm = OpenAI(model_name=\"gpt-3.5-turbo-instruct\",max_tokens=200)"
   ]
  },
  {
   "cell_type": "code",
   "execution_count": 4,
   "id": "377b0fe4-8dfb-49e2-a30f-db4d3f9328ab",
   "metadata": {
    "execution": {
     "iopub.execute_input": "2025-01-06T02:46:27.543182Z",
     "iopub.status.busy": "2025-01-06T02:46:27.542868Z",
     "iopub.status.idle": "2025-01-06T02:46:49.832743Z",
     "shell.execute_reply": "2025-01-06T02:46:49.832136Z",
     "shell.execute_reply.started": "2025-01-06T02:46:27.543163Z"
    },
    "tags": []
   },
   "outputs": [
    {
     "name": "stdout",
     "output_type": "stream",
     "text": [
      "\n",
      "\n",
      "爱如红玫瑰，永不凋零，情人节快乐！\n"
     ]
    }
   ],
   "source": [
    "text = llm.invoke(\"请给我写一句情人节红玫瑰的中文宣传语\")\n",
    "print(text)"
   ]
  }
 ],
 "metadata": {
  "kernelspec": {
   "display_name": "Python 3 (ipykernel)",
   "language": "python",
   "name": "python3"
  },
  "language_info": {
   "codemirror_mode": {
    "name": "ipython",
    "version": 3
   },
   "file_extension": ".py",
   "mimetype": "text/x-python",
   "name": "python",
   "nbconvert_exporter": "python",
   "pygments_lexer": "ipython3",
   "version": "3.13.0"
  }
 },
 "nbformat": 4,
 "nbformat_minor": 5
}
