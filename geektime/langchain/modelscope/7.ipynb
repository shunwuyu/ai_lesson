{
 "cells": [
  {
   "cell_type": "code",
   "execution_count": 1,
   "id": "bcd64fc1-e632-4840-82b7-75bd142b8b18",
   "metadata": {
    "execution": {
     "iopub.execute_input": "2025-01-09T03:56:02.210396Z",
     "iopub.status.busy": "2025-01-09T03:56:02.210082Z",
     "iopub.status.idle": "2025-01-09T03:56:02.215419Z",
     "shell.execute_reply": "2025-01-09T03:56:02.214986Z",
     "shell.execute_reply.started": "2025-01-09T03:56:02.210376Z"
    },
    "tags": []
   },
   "outputs": [],
   "source": [
    "import os\n",
    "os.environ[\"OPENAI_API_KEY\"] = 'sk-l20IEZZ2gE1ZXeEmx9OkNLs5LXezNzXry9oxljohAAEx9PTb'\n",
    "os.environ[\"OPENAI_BASE_URL\"] = 'https://api.302.ai/v1/'\n"
   ]
  },
  {
   "cell_type": "code",
   "execution_count": 3,
   "id": "d8bceff0-55df-4a93-8acd-3c0c32d83b23",
   "metadata": {
    "ExecutionIndicator": {
     "show": true
    },
    "execution": {
     "iopub.execute_input": "2025-01-09T04:01:39.688503Z",
     "iopub.status.busy": "2025-01-09T04:01:39.688179Z",
     "iopub.status.idle": "2025-01-09T04:01:43.832403Z",
     "shell.execute_reply": "2025-01-09T04:01:43.831934Z",
     "shell.execute_reply.started": "2025-01-09T04:01:39.688484Z"
    },
    "tags": []
   },
   "outputs": [
    {
     "name": "stdout",
     "output_type": "stream",
     "text": [
      "{'flower': '玫瑰', 'text': '\\n\\n爱情、浪漫、温柔、美丽、纯洁、珍贵、敬爱、感恩、永恒、幸福。'}\n"
     ]
    }
   ],
   "source": [
    "from langchain.chains import LLMChain\n",
    "from langchain_openai import OpenAI\n",
    "from langchain.prompts import PromptTemplate\n",
    "prompt_template = \"{flower}的花语是?\"\n",
    "llm = OpenAI(model_name=\"gpt-3.5-turbo-instruct\",max_tokens=200)\n",
    "prompt = PromptTemplate(\n",
    "    input_variables=[\"flower\"], template=prompt_template\n",
    ")\n",
    "llm_chain = LLMChain(llm=llm, prompt=prompt)\n",
    "result = llm_chain.invoke(\"玫瑰\")\n",
    "print(result)"
   ]
  },
  {
   "cell_type": "code",
   "execution_count": 4,
   "id": "2caa8bb2-b9ce-4e16-9035-5aa76bea04c4",
   "metadata": {
    "execution": {
     "iopub.execute_input": "2025-01-09T04:29:50.680694Z",
     "iopub.status.busy": "2025-01-09T04:29:50.680374Z",
     "iopub.status.idle": "2025-01-09T04:29:50.684178Z",
     "shell.execute_reply": "2025-01-09T04:29:50.683665Z",
     "shell.execute_reply.started": "2025-01-09T04:29:50.680674Z"
    },
    "tags": []
   },
   "outputs": [],
   "source": [
    "template = \"\"\"你是一个植物学家。给定花的名称和类型，你需要为这种花写一个200字左右的介绍。花名: {name}颜色: {color}植物学家: 这是关于上述花的介绍:\"\"\"\n",
    "prompt_template = PromptTemplate(input_variables=[\"name\", \"color\"], template=template)\n",
    "introduction_chain = LLMChain(llm=llm, prompt=prompt_template, output_key=\"introduction\")\n"
   ]
  },
  {
   "cell_type": "code",
   "execution_count": 5,
   "id": "efcf9779-584f-4113-842c-7d51d5509a81",
   "metadata": {
    "execution": {
     "iopub.execute_input": "2025-01-09T04:30:31.689917Z",
     "iopub.status.busy": "2025-01-09T04:30:31.689613Z",
     "iopub.status.idle": "2025-01-09T04:30:31.693021Z",
     "shell.execute_reply": "2025-01-09T04:30:31.692540Z",
     "shell.execute_reply.started": "2025-01-09T04:30:31.689898Z"
    },
    "tags": []
   },
   "outputs": [],
   "source": [
    "template = \"\"\"你是一位鲜花评论家。给定一种花的介绍，你需要为这种花写一篇200字左右的评论。鲜花介绍:{introduction}花评人对上述花的评论:\"\"\"\n",
    "prompt_template = PromptTemplate(input_variables=[\"introduction\"], template=template)\n",
    "review_chain = LLMChain(llm=llm, prompt=prompt_template, output_key=\"review\")\n"
   ]
  },
  {
   "cell_type": "code",
   "execution_count": 6,
   "id": "7315bbfb-0428-4366-b26a-eca3c10b98b2",
   "metadata": {
    "execution": {
     "iopub.execute_input": "2025-01-09T04:31:10.825765Z",
     "iopub.status.busy": "2025-01-09T04:31:10.825460Z",
     "iopub.status.idle": "2025-01-09T04:31:10.828919Z",
     "shell.execute_reply": "2025-01-09T04:31:10.828444Z",
     "shell.execute_reply.started": "2025-01-09T04:31:10.825745Z"
    },
    "tags": []
   },
   "outputs": [],
   "source": [
    "template = \"\"\"你是一家花店的社交媒体经理。给定一种花的介绍和评论，你需要为这种花写一篇社交媒体的帖子，300字左右。鲜花介绍:{introduction}花评人对上述花的评论:{review}社交媒体帖子:\"\"\"\n",
    "prompt_template = PromptTemplate(input_variables=[\"introduction\", \"review\"], template=template)\n",
    "social_post_chain = LLMChain(llm=llm, prompt=prompt_template, output_key=\"social_post_text\")"
   ]
  },
  {
   "cell_type": "code",
   "execution_count": 8,
   "id": "bd409ce4-49bd-453e-a5f4-5c0cae42030b",
   "metadata": {
    "ExecutionIndicator": {
     "show": true
    },
    "execution": {
     "iopub.execute_input": "2025-01-09T04:32:25.596493Z",
     "iopub.status.busy": "2025-01-09T04:32:25.596168Z",
     "iopub.status.idle": "2025-01-09T04:32:49.723604Z",
     "shell.execute_reply": "2025-01-09T04:32:49.723015Z",
     "shell.execute_reply.started": "2025-01-09T04:32:25.596473Z"
    },
    "tags": []
   },
   "outputs": [
    {
     "name": "stdout",
     "output_type": "stream",
     "text": [
      "\n",
      "\n",
      "\u001b[1m> Entering new SequentialChain chain...\u001b[0m\n",
      "\n",
      "\u001b[1m> Finished chain.\u001b[0m\n",
      "{'name': '玫瑰', 'color': '黑色', 'introduction': \"\\n\\n玫瑰是一种非常受欢迎的花卉，它们的美丽和芬芳使其成为了许多人心中的最爱。然而，你可能不知道的是，玫瑰还有许多不同的颜色，其中最为神秘和吸引人的就是黑色玫瑰。\\n\\n黑色玫瑰的学名为“Rosa 'Black Baccara'”，它们的花瓣呈现出深邃的黑色，给人一种神秘的感觉。这种颜色并非是自然形成的，而是通过人工培育而来。黑色玫瑰的花瓣中含有大\", 'review': '\\n\\n作为一位鲜花评论家，我对黑色玫瑰深深着迷。它们的神秘色彩令人惊叹，仿佛散发着一种神秘的诱惑力。每一朵黑色玫瑰都像是一幅艺术品，让人忍不住想要仔细欣赏。\\n\\n黑色玫瑰的花瓣呈现出深邃的黑色，却并不显得沉闷和压抑。相反，它们散发出一种神秘的美感，让人不禁想要靠近，去感受它们的', 'social_post_text': '\\n\\n大家好，我是花店的社交媒体经理小花。今天，我要向大家介绍一种非常特别的花——黑色玫瑰。\\n\\n玫瑰作为一种受欢迎的花卉，大家都很熟悉。但是，你可能不知道的是，玫瑰还有许多不同的颜色，其中最为神秘和吸引人的就是黑色玫瑰。\\n\\n黑色玫瑰的花瓣呈现出深邃的黑色，给人一种神秘的感觉。这种颜色并非是自然形成的，而是通过人工培育而来。'}\n"
     ]
    }
   ],
   "source": [
    "from langchain.chains import SequentialChain\n",
    "overall_chain = SequentialChain( chains=[introduction_chain, review_chain, social_post_chain], input_variables=[\"name\", \"color\"], output_variables=[\"introduction\",\"review\",\"social_post_text\"], verbose=True)\n",
    "# 运行链，并打印结果\n",
    "result = overall_chain.invoke({\"name\":\"玫瑰\", \"color\": \"黑色\"})\n",
    "print(result)"
   ]
  }
 ],
 "metadata": {
  "kernelspec": {
   "display_name": "Python 3 (ipykernel)",
   "language": "python",
   "name": "python3"
  },
  "language_info": {
   "codemirror_mode": {
    "name": "ipython",
    "version": 3
   },
   "file_extension": ".py",
   "mimetype": "text/x-python",
   "name": "python",
   "nbconvert_exporter": "python",
   "pygments_lexer": "ipython3",
   "version": "3.10.14"
  }
 },
 "nbformat": 4,
 "nbformat_minor": 5
}
