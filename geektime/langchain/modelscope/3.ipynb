{
 "cells": [
  {
   "cell_type": "code",
   "execution_count": 1,
   "id": "ec6506c3-0c94-4e30-b714-61f3792c8ac4",
   "metadata": {
    "execution": {
     "iopub.execute_input": "2025-01-06T02:55:36.897730Z",
     "iopub.status.busy": "2025-01-06T02:55:36.897401Z",
     "iopub.status.idle": "2025-01-06T02:55:36.903555Z",
     "shell.execute_reply": "2025-01-06T02:55:36.903073Z",
     "shell.execute_reply.started": "2025-01-06T02:55:36.897700Z"
    },
    "tags": []
   },
   "outputs": [],
   "source": [
    "import os\n",
    "os.environ[\"OPENAI_API_KEY\"] = 'sk-yC52cYQkz0aMXJA5PySMUXdpVNBVNgKkdsv5kjEZpdx93PVs'\n",
    "os.environ[\"OPENAI_BASE_URL\"] = 'https://api.302.ai/v1/'"
   ]
  },
  {
   "cell_type": "code",
   "execution_count": 5,
   "id": "5f94a21a-52c0-4c96-b002-355f7fa0d1ec",
   "metadata": {
    "ExecutionIndicator": {
     "show": true
    },
    "execution": {
     "iopub.execute_input": "2025-01-06T02:56:30.103393Z",
     "iopub.status.busy": "2025-01-06T02:56:30.103069Z",
     "iopub.status.idle": "2025-01-06T02:56:30.106759Z",
     "shell.execute_reply": "2025-01-06T02:56:30.106320Z",
     "shell.execute_reply.started": "2025-01-06T02:56:30.103373Z"
    },
    "tags": []
   },
   "outputs": [
    {
     "name": "stdout",
     "output_type": "stream",
     "text": [
      "input_variables=['flower_name', 'price'] input_types={} partial_variables={} template='您是一位专业的鲜花店文案撰写员。\\n\\n对于售价为 {price} 元的 {flower_name} ，您能提供一个吸引人的简短描述吗？\\n'\n"
     ]
    }
   ],
   "source": [
    "from langchain.prompts import PromptTemplate\n",
    "\n",
    "template = \"\"\"您是一位专业的鲜花店文案撰写员。\\n\n",
    "对于售价为 {price} 元的 {flower_name} ，您能提供一个吸引人的简短描述吗？\n",
    "\"\"\"\n",
    "prompt = PromptTemplate.from_template(template) \n",
    "print(prompt)"
   ]
  },
  {
   "cell_type": "code",
   "execution_count": 6,
   "id": "c09039b5-9978-4ba9-a4b1-08e911af0bcd",
   "metadata": {
    "execution": {
     "iopub.execute_input": "2025-01-06T02:57:01.759245Z",
     "iopub.status.busy": "2025-01-06T02:57:01.758925Z",
     "iopub.status.idle": "2025-01-06T02:57:02.177663Z",
     "shell.execute_reply": "2025-01-06T02:57:02.177189Z",
     "shell.execute_reply.started": "2025-01-06T02:57:01.759226Z"
    },
    "tags": []
   },
   "outputs": [],
   "source": [
    "from langchain_openai import OpenAI\n",
    "model = OpenAI(model_name='gpt-3.5-turbo-instruct')"
   ]
  },
  {
   "cell_type": "code",
   "execution_count": 10,
   "id": "c4f07e3c-74d6-48b0-ad18-b1324160df38",
   "metadata": {
    "ExecutionIndicator": {
     "show": true
    },
    "execution": {
     "iopub.execute_input": "2025-01-06T02:58:21.503139Z",
     "iopub.status.busy": "2025-01-06T02:58:21.502821Z",
     "iopub.status.idle": "2025-01-06T02:58:25.850959Z",
     "shell.execute_reply": "2025-01-06T02:58:25.850494Z",
     "shell.execute_reply.started": "2025-01-06T02:58:21.503119Z"
    },
    "tags": []
   },
   "outputs": [
    {
     "name": "stdout",
     "output_type": "stream",
     "text": [
      "您是一位专业的鲜花店文案撰写员。\n",
      "\n",
      "对于售价为 50 元的 玫瑰 ，您能提供一个吸引人的简短描述吗？\n",
      "\n",
      "\n",
      "\"粉嫩如初，芳香四溢，这束50元的玫瑰是爱情的最佳表达。献给你心爱的人，让她感受到满满的浪漫和温馨。无论是生日、纪念日还是想对她说声我爱你，这束玫瑰都能带来最甜蜜的祝福。\" \n"
     ]
    }
   ],
   "source": [
    "input = prompt.format(flower_name=\"玫瑰\", price='50')\n",
    "print(input)\n",
    "output = model.invoke(input)\n",
    "print(output)"
   ]
  },
  {
   "cell_type": "code",
   "execution_count": 11,
   "id": "842ee2fd-4846-47b9-99af-bfd60a8911a3",
   "metadata": {
    "execution": {
     "iopub.execute_input": "2025-01-06T03:00:55.037987Z",
     "iopub.status.busy": "2025-01-06T03:00:55.037651Z",
     "iopub.status.idle": "2025-01-06T03:01:04.518725Z",
     "shell.execute_reply": "2025-01-06T03:01:04.518248Z",
     "shell.execute_reply.started": "2025-01-06T03:00:55.037967Z"
    },
    "tags": []
   },
   "outputs": [
    {
     "name": "stdout",
     "output_type": "stream",
     "text": [
      "\n",
      "“浪漫的玫瑰，爱情的象征。这束精致的鲜花，色彩鲜艳，花瓣柔软，散发着迷人的芳香。无论是送给心爱的人，还是用来装点浪漫的氛围，都能带来无穷的幸福和甜蜜。只需50元，就能将这份温馨的情感传递给你的挚爱。”\n",
      "\n",
      "百合，花语纯洁，是送给心爱的人最温柔的表达。只需花费30元，就能拥有这束花的馨香和美丽，让您的爱意传递无遗。无论是生日、纪念日，还是想表达一份感激之情，百合都是最佳选择。让我们的百合，为您的爱情散发无穷的魅力。\n",
      "\n",
      "\"精致优雅，花香四溢，一束价值不菲的康乃馨，带来的不仅仅是美丽的视觉享受，更是对爱与感恩的最佳表达。以仅20元的价格，让这束温暖的花束成为您感恩之心的最佳代言人。\"\n"
     ]
    }
   ],
   "source": [
    "flowers = [\"玫瑰\", \"百合\", \"康乃馨\"]\n",
    "prices = [\"50\", \"30\", \"20\"]\n",
    "# 合成一个由元组组成的迭代器\n",
    "for flower, price in zip(flowers, prices):\n",
    "    # 使用提示模板生成输入\n",
    "    input_prompt = prompt.format(flower_name=flower, price=price)\n",
    "\n",
    "    # 得到模型的输出\n",
    "    output = model.invoke(input_prompt)\n",
    "\n",
    "    # 打印输出内容\n",
    "    print(output)"
   ]
  }
 ],
 "metadata": {
  "kernelspec": {
   "display_name": "Python 3 (ipykernel)",
   "language": "python",
   "name": "python3"
  },
  "language_info": {
   "codemirror_mode": {
    "name": "ipython",
    "version": 3
   },
   "file_extension": ".py",
   "mimetype": "text/x-python",
   "name": "python",
   "nbconvert_exporter": "python",
   "pygments_lexer": "ipython3",
   "version": "3.10.14"
  }
 },
 "nbformat": 4,
 "nbformat_minor": 5
}
