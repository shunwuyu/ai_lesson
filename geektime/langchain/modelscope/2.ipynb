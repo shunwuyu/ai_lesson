{
 "cells": [
  {
   "cell_type": "code",
   "execution_count": 1,
   "id": "31331c2c-566b-4ae8-88b2-b823e16a533b",
   "metadata": {
    "execution": {
     "iopub.execute_input": "2025-01-06T02:47:48.987638Z",
     "iopub.status.busy": "2025-01-06T02:47:48.987333Z",
     "iopub.status.idle": "2025-01-06T02:47:48.992843Z",
     "shell.execute_reply": "2025-01-06T02:47:48.992279Z",
     "shell.execute_reply.started": "2025-01-06T02:47:48.987618Z"
    },
    "tags": []
   },
   "outputs": [],
   "source": [
    "import os\n",
    "os.environ[\"OPENAI_API_KEY\"] = 'sk-yC52cYQkz0aMXJA5PySMUXdpVNBVNgKkdsv5kjEZpdx93PVs'\n",
    "os.environ[\"OPENAI_BASE_URL\"] = 'https://api.302.ai/v1/'"
   ]
  },
  {
   "cell_type": "code",
   "execution_count": 5,
   "id": "96eba2fc-c843-4988-af9f-2ebeda292887",
   "metadata": {
    "ExecutionIndicator": {
     "show": true
    },
    "execution": {
     "iopub.execute_input": "2025-01-06T02:53:45.924134Z",
     "iopub.status.busy": "2025-01-06T02:53:45.923776Z",
     "iopub.status.idle": "2025-01-06T02:53:48.572105Z",
     "shell.execute_reply": "2025-01-06T02:53:48.571601Z",
     "shell.execute_reply.started": "2025-01-06T02:53:45.924107Z"
    },
    "tags": []
   },
   "outputs": [
    {
     "name": "stdout",
     "output_type": "stream",
     "text": [
      "当然！我建议为您的花店取名为“花语之韵”或者“花香轩”。希望这些名字能为您的花店增添一些独特的\n"
     ]
    }
   ],
   "source": [
    "from langchain_openai import ChatOpenAI\n",
    "from langchain.schema import (\n",
    "    HumanMessage,\n",
    "    SystemMessage\n",
    ")\n",
    "chat = ChatOpenAI(\n",
    "    model=\"gpt-3.5-turbo\",\n",
    "    temperature=0.8,\n",
    "    max_tokens=60\n",
    ")\n",
    "messages = [\n",
    "    SystemMessage(content=\"你是一个很棒的智能助手\"),\n",
    "    HumanMessage(content=\"请给我的花店起个名\")\n",
    "]\n",
    "\n",
    "response = chat(messages)\n",
    "print(response.content)"
   ]
  }
 ],
 "metadata": {
  "kernelspec": {
   "display_name": "Python 3 (ipykernel)",
   "language": "python",
   "name": "python3"
  },
  "language_info": {
   "codemirror_mode": {
    "name": "ipython",
    "version": 3
   },
   "file_extension": ".py",
   "mimetype": "text/x-python",
   "name": "python",
   "nbconvert_exporter": "python",
   "pygments_lexer": "ipython3",
   "version": "3.10.14"
  }
 },
 "nbformat": 4,
 "nbformat_minor": 5
}
