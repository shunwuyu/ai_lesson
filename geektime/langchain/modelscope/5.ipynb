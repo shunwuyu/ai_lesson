{
 "cells": [
  {
   "cell_type": "code",
   "execution_count": 1,
   "id": "56491135-db61-4a51-b054-84816238cf9a",
   "metadata": {
    "execution": {
     "iopub.execute_input": "2025-01-06T08:53:00.200786Z",
     "iopub.status.busy": "2025-01-06T08:53:00.200452Z",
     "iopub.status.idle": "2025-01-06T08:53:00.205979Z",
     "shell.execute_reply": "2025-01-06T08:53:00.205501Z",
     "shell.execute_reply.started": "2025-01-06T08:53:00.200765Z"
    },
    "tags": []
   },
   "outputs": [],
   "source": [
    "import os\n",
    "os.environ[\"OPENAI_API_KEY\"] = 'sk-yC52cYQkz0aMXJA5PySMUXdpVNBVNgKkdsv5kjEZpdx93PVs'\n",
    "os.environ[\"OPENAI_BASE_URL\"] = 'https://api.302.ai/v1/'\n"
   ]
  },
  {
   "cell_type": "code",
   "execution_count": 3,
   "id": "309ea560-478c-4777-8cec-ce2321fb616d",
   "metadata": {
    "ExecutionIndicator": {
     "show": true
    },
    "execution": {
     "iopub.execute_input": "2025-01-06T08:53:20.745350Z",
     "iopub.status.busy": "2025-01-06T08:53:20.745000Z",
     "iopub.status.idle": "2025-01-06T08:53:20.748258Z",
     "shell.execute_reply": "2025-01-06T08:53:20.747809Z",
     "shell.execute_reply.started": "2025-01-06T08:53:20.745329Z"
    },
    "tags": []
   },
   "outputs": [],
   "source": [
    "from langchain.prompts import PromptTemplate\n",
    "prompt_template = \"\"\"您是一位专业的鲜花店文案撰写员。\n",
    "对于售价为 {price} 元的 {flower_name} ，您能提供一个吸引人的简短描述吗？\n",
    "{format_instructions}\"\"\""
   ]
  },
  {
   "cell_type": "code",
   "execution_count": 4,
   "id": "360882f7-8091-4fb8-a90f-f07295c0286e",
   "metadata": {
    "execution": {
     "iopub.execute_input": "2025-01-06T08:53:41.428307Z",
     "iopub.status.busy": "2025-01-06T08:53:41.427607Z",
     "iopub.status.idle": "2025-01-06T08:53:41.911263Z",
     "shell.execute_reply": "2025-01-06T08:53:41.910693Z",
     "shell.execute_reply.started": "2025-01-06T08:53:41.428240Z"
    },
    "tags": []
   },
   "outputs": [],
   "source": [
    "from langchain_openai import OpenAI\n",
    "# 创建模型实例\n",
    "model = OpenAI(model_name='gpt-3.5-turbo-instruct')"
   ]
  },
  {
   "cell_type": "code",
   "execution_count": 5,
   "id": "9cdd83b7-4483-4446-a0c6-3e2bbbb4596f",
   "metadata": {
    "execution": {
     "iopub.execute_input": "2025-01-06T08:54:38.837130Z",
     "iopub.status.busy": "2025-01-06T08:54:38.836758Z",
     "iopub.status.idle": "2025-01-06T08:54:38.880657Z",
     "shell.execute_reply": "2025-01-06T08:54:38.880218Z",
     "shell.execute_reply.started": "2025-01-06T08:54:38.837097Z"
    },
    "tags": []
   },
   "outputs": [],
   "source": [
    "# 导入结构化输出解析器和ResponseSchema\n",
    "from langchain.output_parsers import StructuredOutputParser, ResponseSchema\n",
    "# 定义我们想要接收的响应模式\n",
    "response_schemas = [\n",
    "    ResponseSchema(name=\"description\", description=\"鲜花的描述文案\"),\n",
    "    ResponseSchema(name=\"reason\", description=\"问什么要这样写这个文案\")\n",
    "]"
   ]
  },
  {
   "cell_type": "code",
   "execution_count": 6,
   "id": "f99007ad-570e-46cc-8dcf-14ad22695c24",
   "metadata": {
    "execution": {
     "iopub.execute_input": "2025-01-06T08:54:47.363685Z",
     "iopub.status.busy": "2025-01-06T08:54:47.363368Z",
     "iopub.status.idle": "2025-01-06T08:54:47.366509Z",
     "shell.execute_reply": "2025-01-06T08:54:47.365906Z",
     "shell.execute_reply.started": "2025-01-06T08:54:47.363663Z"
    },
    "tags": []
   },
   "outputs": [],
   "source": [
    "# 创建输出解析器\n",
    "output_parser = StructuredOutputParser.from_response_schemas(response_schemas)"
   ]
  },
  {
   "cell_type": "code",
   "execution_count": 11,
   "id": "8579cd33-6a52-4bcd-9c93-fb85e6b4a996",
   "metadata": {
    "execution": {
     "iopub.execute_input": "2025-01-06T09:06:36.092910Z",
     "iopub.status.busy": "2025-01-06T09:06:36.092590Z",
     "iopub.status.idle": "2025-01-06T09:06:36.098128Z",
     "shell.execute_reply": "2025-01-06T09:06:36.097654Z",
     "shell.execute_reply.started": "2025-01-06T09:06:36.092891Z"
    },
    "tags": []
   },
   "outputs": [
    {
     "data": {
      "text/plain": [
       "StructuredOutputParser(response_schemas=[ResponseSchema(name='description', description='鲜花的描述文案', type='string'), ResponseSchema(name='reason', description='问什么要这样写这个文案', type='string')])"
      ]
     },
     "execution_count": 11,
     "metadata": {},
     "output_type": "execute_result"
    }
   ],
   "source": [
    "output_parser"
   ]
  },
  {
   "cell_type": "code",
   "execution_count": 7,
   "id": "95773d48-a6a1-4f97-a58b-047b1c169af2",
   "metadata": {
    "execution": {
     "iopub.execute_input": "2025-01-06T08:54:57.639850Z",
     "iopub.status.busy": "2025-01-06T08:54:57.639554Z",
     "iopub.status.idle": "2025-01-06T08:54:57.642622Z",
     "shell.execute_reply": "2025-01-06T08:54:57.642064Z",
     "shell.execute_reply.started": "2025-01-06T08:54:57.639830Z"
    },
    "tags": []
   },
   "outputs": [],
   "source": [
    "# 获取格式指示\n",
    "format_instructions = output_parser.get_format_instructions()"
   ]
  },
  {
   "cell_type": "code",
   "execution_count": 8,
   "id": "c1fcdcd1-3547-4346-85eb-981d945ce7ca",
   "metadata": {
    "execution": {
     "iopub.execute_input": "2025-01-06T08:55:05.808311Z",
     "iopub.status.busy": "2025-01-06T08:55:05.807956Z",
     "iopub.status.idle": "2025-01-06T08:55:05.811084Z",
     "shell.execute_reply": "2025-01-06T08:55:05.810646Z",
     "shell.execute_reply.started": "2025-01-06T08:55:05.808289Z"
    },
    "tags": []
   },
   "outputs": [],
   "source": [
    "# 根据模板创建提示，同时在提示中加入输出解析器的说明\n",
    "prompt = PromptTemplate.from_template(prompt_template, \n",
    "                partial_variables={\"format_instructions\": format_instructions}) "
   ]
  },
  {
   "cell_type": "code",
   "execution_count": 12,
   "id": "d83b7035-9598-4ef8-b397-af51d4f93df7",
   "metadata": {
    "ExecutionIndicator": {
     "show": true
    },
    "execution": {
     "iopub.execute_input": "2025-01-06T09:10:03.181010Z",
     "iopub.status.busy": "2025-01-06T09:10:03.180558Z",
     "iopub.status.idle": "2025-01-06T09:10:12.875715Z",
     "shell.execute_reply": "2025-01-06T09:10:12.875215Z",
     "shell.execute_reply.started": "2025-01-06T09:10:03.180989Z"
    },
    "tags": []
   },
   "outputs": [
    {
     "name": "stdout",
     "output_type": "stream",
     "text": [
      "您是一位专业的鲜花店文案撰写员。\n",
      "对于售价为 50 元的 玫瑰 ，您能提供一个吸引人的简短描述吗？\n",
      "The output should be a markdown code snippet formatted in the following schema, including the leading and trailing \"```json\" and \"```\":\n",
      "\n",
      "```json\n",
      "{\n",
      "\t\"description\": string  // 鲜花的描述文案\n",
      "\t\"reason\": string  // 问什么要这样写这个文案\n",
      "}\n",
      "```\n",
      "您是一位专业的鲜花店文案撰写员。\n",
      "对于售价为 30 元的 百合 ，您能提供一个吸引人的简短描述吗？\n",
      "The output should be a markdown code snippet formatted in the following schema, including the leading and trailing \"```json\" and \"```\":\n",
      "\n",
      "```json\n",
      "{\n",
      "\t\"description\": string  // 鲜花的描述文案\n",
      "\t\"reason\": string  // 问什么要这样写这个文案\n",
      "}\n",
      "```\n",
      "您是一位专业的鲜花店文案撰写员。\n",
      "对于售价为 20 元的 康乃馨 ，您能提供一个吸引人的简短描述吗？\n",
      "The output should be a markdown code snippet formatted in the following schema, including the leading and trailing \"```json\" and \"```\":\n",
      "\n",
      "```json\n",
      "{\n",
      "\t\"description\": string  // 鲜花的描述文案\n",
      "\t\"reason\": string  // 问什么要这样写这个文案\n",
      "}\n",
      "```\n",
      "[{'flower': '玫瑰', 'price': '50', 'description': '这束美丽的玫瑰代表着爱情的纯洁和美好，是表达爱意的最佳选择。', 'reason': '这样的文案能够吸引顾客的注意，让他们感受到浪漫和温馨，从而激发购买欲望。玫瑰作为最受欢迎的鲜花之一，能够让顾客感受到自己的爱情和感情被重视，从而愿意花费50元购买。'}, {'flower': '百合', 'price': '30', 'description': '这束30元的百合，色彩温柔，芳香四溢。它代表着纯洁、美好和祝福，是送给亲朋好友的最佳选择。', 'reason': '百合是知名的鲜花品种之一，价格亲民，适合作为送礼的选择。这个简短的描述能够吸引顾客的注意力，突出百合的优点和象征意义，让顾客产生购买的欲望。'}, {'flower': '康乃馨', 'price': '20', 'description': '粉嫩的康乃馨，花型优美，花瓣细腻，花朵层次分明，象征着爱情的纯洁与温馨。它们是表达爱意，送给心爱之人的最佳选择。', 'reason': '康乃馨作为一种常见的鲜花，具有浓郁的甜美气息，深受人们喜爱。它们的花型优美，花瓣细腻，色彩丰富，可以表达出浓浓的爱意。因此，对于售价为20元的康乃馨，这样的简短描述能够吸引顾客的眼球，让他们更加愿意选择这种高性价比的鲜花来表达自己的爱意。'}]\n"
     ]
    }
   ],
   "source": [
    "# 数据准备\n",
    "flowers = [\"玫瑰\", \"百合\", \"康乃馨\"]\n",
    "prices = [\"50\", \"30\", \"20\"]\n",
    "\n",
    "# 创建一个空的DataFrame用于存储结果\n",
    "import pandas as pd\n",
    "\n",
    "df = pd.DataFrame(columns=[\"flower\", \"price\", \"description\", \"reason\"]) # 先声明列名\n",
    "\n",
    "for flower, price in zip(flowers, prices):\n",
    "    # 根据提示准备模型的输入\n",
    "    input = prompt.format(flower_name=flower, price=price)\n",
    "    print(input)\n",
    "    # 获取模型的输出\n",
    "    output = model.invoke(input)\n",
    "    \n",
    "    # 解析模型的输出（这是一个字典结构）\n",
    "    parsed_output = output_parser.parse(output)\n",
    "\n",
    "    # 在解析后的输出中添加“flower”和“price”\n",
    "    parsed_output['flower'] = flower\n",
    "    parsed_output['price'] = price\n",
    "\n",
    "    # 将解析后的输出添加到DataFrame中\n",
    "    df.loc[len(df)] = parsed_output  \n",
    "\n",
    "# 打印字典 dataframe 转字典 \n",
    "# 其中每个字典代表 DataFrame 中的一行 \n",
    "# DataFrame 是一种二维表格型数据结构\n",
    "# 而字典（dict）是键值对的集合\n",
    "print(df.to_dict(orient='records'))"
   ]
  },
  {
   "cell_type": "code",
   "execution_count": 10,
   "id": "34e81c33-38c0-4c4e-9581-d5d677d0954b",
   "metadata": {
    "execution": {
     "iopub.execute_input": "2025-01-06T08:55:47.875589Z",
     "iopub.status.busy": "2025-01-06T08:55:47.875250Z",
     "iopub.status.idle": "2025-01-06T08:55:47.893416Z",
     "shell.execute_reply": "2025-01-06T08:55:47.892948Z",
     "shell.execute_reply.started": "2025-01-06T08:55:47.875570Z"
    },
    "tags": []
   },
   "outputs": [],
   "source": [
    "# 保存DataFrame到CSV文件\n",
    "df.to_csv(\"flowers_with_descriptions.csv\", index=False)"
   ]
  }
 ],
 "metadata": {
  "kernelspec": {
   "display_name": "Python 3 (ipykernel)",
   "language": "python",
   "name": "python3"
  },
  "language_info": {
   "codemirror_mode": {
    "name": "ipython",
    "version": 3
   },
   "file_extension": ".py",
   "mimetype": "text/x-python",
   "name": "python",
   "nbconvert_exporter": "python",
   "pygments_lexer": "ipython3",
   "version": "3.10.14"
  }
 },
 "nbformat": 4,
 "nbformat_minor": 5
}
